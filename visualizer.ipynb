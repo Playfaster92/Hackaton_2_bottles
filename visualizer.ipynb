{
 "cells": [
  {
   "cell_type": "code",
   "execution_count": null,
   "metadata": {},
   "outputs": [],
   "source": [
    "import matplotlib.pyplot as plt\n",
    "import pandas as pd\n",
    "import numpy as np"
   ]
  },
  {
   "cell_type": "code",
   "execution_count": null,
   "metadata": {},
   "outputs": [],
   "source": [
    "df_clients = pd.read_csv(\"clients.csv\")\n",
    "df_plants = pd.read_csv(\"plants.csv\")"
   ]
  },
  {
   "cell_type": "code",
   "execution_count": 7,
   "metadata": {},
   "outputs": [],
   "source": [
    "fig, ax = plt.subplots()\n",
    "df_clients.plot(kind=\"scatter\", x=\"coord_x\", y=\"coord_y\", ax=ax)\n",
    "df_plants.plot(kind=\"scatter\", x=\"coord_x\", y=\"coord_y\", color=\"red\",ax=ax)\n",
    "\n",
    "for _, row in df_plants.iterrows():\n",
    "    x = row[\"coord_x\"]\n",
    "    y = row[\"coord_y\"]\n",
    "    c = row[\"capacity\"]\n",
    "    ax.add_patch(plt.Circle((x,y), 100, color='r', fill=False))\n",
    "    near = df_clients[((x-df_clients[\"coord_x\"])**2 + (y-df_clients[\"coord_y\"])**2 < 100**2) ]\n",
    "    ax.annotate(xy=(x, y), text=str(c)+\", \"+str(near.shape[0]),\n",
    "                xytext=(-5,-10), textcoords='offset points',\n",
    "                family='sans-serif', fontsize=8, color='black')\n",
    "near.index"
   ]
  }
 ],
 "metadata": {
  "kernelspec": {
   "display_name": "base",
   "language": "python",
   "name": "python3"
  },
  "language_info": {
   "codemirror_mode": {
    "name": "ipython",
    "version": 3
   },
   "file_extension": ".py",
   "mimetype": "text/x-python",
   "name": "python",
   "nbconvert_exporter": "python",
   "pygments_lexer": "ipython3",
   "version": "3.12.4"
  }
 },
 "nbformat": 4,
 "nbformat_minor": 2
}
